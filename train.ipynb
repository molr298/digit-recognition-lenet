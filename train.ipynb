{
 "cells": [
  {
   "cell_type": "code",
   "execution_count": 3,
   "metadata": {},
   "outputs": [],
   "source": [
    "import numpy as np\n",
    "import tensorflow as tf\n",
    "from tensorflow import keras\n",
    "\n",
    "from tensorflow.keras.datasets import mnist\n",
    "from tensorflow.keras.models import Sequential\n",
    "\n",
    "from tensorflow.keras.layers import Dense, Dropout, Flatten, Conv2D, MaxPool2D"
   ]
  },
  {
   "cell_type": "code",
   "execution_count": 4,
   "metadata": {},
   "outputs": [
    {
     "data": {
      "text/plain": [
       "((60000, 28, 28), (60000,), (10000, 28, 28), (10000,))"
      ]
     },
     "execution_count": 4,
     "metadata": {},
     "output_type": "execute_result"
    }
   ],
   "source": [
    "(x_train,y_train),(x_test,y_test) = mnist.load_data()\n",
    "x_train.shape, y_train.shape, x_test.shape, y_test.shape"
   ]
  },
  {
   "cell_type": "markdown",
   "metadata": {},
   "source": [
    "Normalize the images"
   ]
  },
  {
   "cell_type": "code",
   "execution_count": 5,
   "metadata": {},
   "outputs": [
    {
     "data": {
      "text/plain": [
       "(60000, 10)"
      ]
     },
     "execution_count": 5,
     "metadata": {},
     "output_type": "execute_result"
    }
   ],
   "source": [
    "x_train = x_train.astype(np.float32) / 255\n",
    "x_test = x_test.astype(np.float32) / 255\n",
    "\n",
    "#Reshape the image to 3D (28,28,1) / Expand dimension to (28,28,1)\n",
    "x_train = np.expand_dims(x_train, -1)\n",
    "x_test = np.expand_dims(x_test, -1)\n",
    "\n",
    "#Compile labels to a vector\n",
    "y_train = tf.keras.utils.to_categorical(y_train)\n",
    "y_test = tf.keras.utils.to_categorical(y_test)\n",
    "\n",
    "x_train.shape\n",
    "y_train.shape"
   ]
  },
  {
   "cell_type": "code",
   "execution_count": 7,
   "metadata": {},
   "outputs": [],
   "source": [
    "model = Sequential()\n",
    "\n",
    "model.add(Conv2D(32, (3,3),input_shape=(28,28,1), activation='relu'))\n",
    "model.add(MaxPool2D((2, 2)))\n",
    "\n",
    "model.add(Conv2D(64,(3,3), activation='relu'))\n",
    "model.add(MaxPool2D((2, 2)))\n",
    "\n",
    "model.add(Flatten())\n",
    "model.add(Dropout(0.25))\n",
    "model.add(Dense(10,activation='softmax'))"
   ]
  },
  {
   "cell_type": "code",
   "execution_count": 8,
   "metadata": {},
   "outputs": [],
   "source": [
    "model.compile(optimizer='adam',loss=tf.keras.losses.categorical_crossentropy,metrics=['accuracy'])"
   ]
  },
  {
   "cell_type": "code",
   "execution_count": null,
   "metadata": {},
   "outputs": [],
   "source": [
    "model.summary()"
   ]
  },
  {
   "cell_type": "code",
   "execution_count": 192,
   "metadata": {},
   "outputs": [
    {
     "name": "stdout",
     "output_type": "stream",
     "text": [
      "Epoch 1/5\n",
      "1313/1313 [==============================] - 27s 20ms/step - loss: 0.2121 - accuracy: 0.9351 - val_loss: 0.0758 - val_accuracy: 0.9763\n",
      "Epoch 2/5\n",
      "1313/1313 [==============================] - 36s 28ms/step - loss: 0.0739 - accuracy: 0.9778 - val_loss: 0.0539 - val_accuracy: 0.9832\n",
      "Epoch 3/5\n",
      "1313/1313 [==============================] - 33s 25ms/step - loss: 0.0532 - accuracy: 0.9834 - val_loss: 0.0498 - val_accuracy: 0.9850\n",
      "Epoch 4/5\n",
      "1313/1313 [==============================] - 43s 33ms/step - loss: 0.0429 - accuracy: 0.9864 - val_loss: 0.0447 - val_accuracy: 0.9866\n",
      "Epoch 5/5\n",
      "1313/1313 [==============================] - 46s 35ms/step - loss: 0.0383 - accuracy: 0.9876 - val_loss: 0.0410 - val_accuracy: 0.9877\n"
     ]
    }
   ],
   "source": [
    "his = model.fit(x_train,y_train,epochs=10,validation_split=0.3)\n",
    "model.save('bestmodel.h5')"
   ]
  },
  {
   "cell_type": "markdown",
   "metadata": {},
   "source": [
    "from keras.callbacks import EarlyStopping, ModelCheckpoint\n",
    "\n",
    "es = EarlyStopping(monitor='val_acc', min_delta=0.01, patience=4,verbose=1)\n",
    "\n",
    "mc = ModelCheckpoint(\"./bestmodel.h5\",monitor='val_acc',verbose=1,save_best_only=True)\n",
    "\n",
    "cb = [es,mc]"
   ]
  },
  {
   "cell_type": "markdown",
   "metadata": {},
   "source": [
    "### Train Model"
   ]
  },
  {
   "cell_type": "markdown",
   "metadata": {},
   "source": [
    "his = model.fit(x_train,y_train,epochs=5,validation_split=0.3)\n",
    "\n",
    "model.save('bestmodel.h5')"
   ]
  },
  {
   "cell_type": "code",
   "execution_count": 193,
   "metadata": {},
   "outputs": [],
   "source": [
    "new_model = tf.keras.models.load_model('bestmodel.h5')"
   ]
  },
  {
   "cell_type": "code",
   "execution_count": 194,
   "metadata": {},
   "outputs": [
    {
     "name": "stdout",
     "output_type": "stream",
     "text": [
      "313/313 [==============================] - 3s 9ms/step - loss: 0.0341 - accuracy: 0.9891\n",
      "Accuracy: 0.9890999794006348\n"
     ]
    }
   ],
   "source": [
    "score = new_model.evaluate(x_test,y_test)\n",
    "\n",
    "print(f\"Accuracy: {score[1]}\")"
   ]
  }
 ],
 "metadata": {
  "interpreter": {
   "hash": "7d02b7426e692fbbd84b68649eb3859898ba146ffc7adab2b0543bea598da7ad"
  },
  "kernelspec": {
   "display_name": "Python 3.9.5 64-bit",
   "language": "python",
   "name": "python3"
  },
  "language_info": {
   "codemirror_mode": {
    "name": "ipython",
    "version": 3
   },
   "file_extension": ".py",
   "mimetype": "text/x-python",
   "name": "python",
   "nbconvert_exporter": "python",
   "pygments_lexer": "ipython3",
   "version": "3.9.7"
  },
  "orig_nbformat": 4
 },
 "nbformat": 4,
 "nbformat_minor": 2
}
