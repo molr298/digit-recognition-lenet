{
  "cells": [
    {
      "cell_type": "code",
      "execution_count": 1,
      "metadata": {
        "id": "MMcWUHT5-eVD"
      },
      "outputs": [
        {
          "name": "stderr",
          "output_type": "stream",
          "text": [
            "2021-12-19 02:25:57.767007: W tensorflow/stream_executor/platform/default/dso_loader.cc:64] Could not load dynamic library 'libcudart.so.11.0'; dlerror: libcudart.so.11.0: cannot open shared object file: No such file or directory\n",
            "2021-12-19 02:25:57.767045: I tensorflow/stream_executor/cuda/cudart_stub.cc:29] Ignore above cudart dlerror if you do not have a GPU set up on your machine.\n"
          ]
        }
      ],
      "source": [
        "import tensorflow as tf\n",
        "import matplotlib.pyplot as plt\n",
        "from tensorflow.keras import datasets, layers, models, losses"
      ]
    },
    {
      "cell_type": "code",
      "execution_count": 2,
      "metadata": {
        "id": "fEvJTxr2C55-"
      },
      "outputs": [],
      "source": [
        "(x_train, y_train), (x_test, y_test)=tf.keras.datasets.mnist.load_data()"
      ]
    },
    {
      "cell_type": "code",
      "execution_count": 3,
      "metadata": {
        "colab": {
          "base_uri": "https://localhost:8080/"
        },
        "id": "v5CqAuLuDC94",
        "outputId": "c082e3c5-58a4-4577-c6a6-cab6a46406ee"
      },
      "outputs": [
        {
          "data": {
            "text/plain": [
              "(60000, 28, 28)"
            ]
          },
          "execution_count": 3,
          "metadata": {},
          "output_type": "execute_result"
        }
      ],
      "source": [
        "x_train.shape"
      ]
    },
    {
      "cell_type": "code",
      "execution_count": null,
      "metadata": {
        "colab": {
          "base_uri": "https://localhost:8080/"
        },
        "id": "XizrWVlmY1NQ",
        "outputId": "79110c67-65e5-46cf-c7ef-12f743e14476"
      },
      "outputs": [],
      "source": [
        "x_train = tf.pad(x_train, [[0, 0], [2,2], [2,2]])/255\n",
        "x_test = tf.pad(x_test, [[0, 0], [2,2], [2,2]])/255\n",
        "x_train.shape"
      ]
    },
    {
      "cell_type": "code",
      "execution_count": 5,
      "metadata": {
        "colab": {
          "base_uri": "https://localhost:8080/"
        },
        "id": "hy_dVa44ZOLk",
        "outputId": "27409e22-03ac-46a9-b388-8f832fcdcc42"
      },
      "outputs": [
        {
          "data": {
            "text/plain": [
              "TensorShape([60000, 32, 32, 1])"
            ]
          },
          "execution_count": 5,
          "metadata": {},
          "output_type": "execute_result"
        }
      ],
      "source": [
        "x_train = tf.expand_dims(x_train, axis=3, name=None)\n",
        "x_test = tf.expand_dims(x_test, axis=3, name=None)\n",
        "x_train.shape"
      ]
    },
    {
      "cell_type": "code",
      "execution_count": 6,
      "metadata": {
        "id": "gJuMl9GAnoM5"
      },
      "outputs": [],
      "source": [
        "x_val = x_train[-2000:,:,:,:]\n",
        "y_val = y_train[-2000:]\n",
        "x_train = x_train[:-2000,:,:,:]\n",
        "y_train = y_train[:-2000]"
      ]
    },
    {
      "cell_type": "code",
      "execution_count": 7,
      "metadata": {
        "colab": {
          "base_uri": "https://localhost:8080/"
        },
        "id": "UeaLkOM-XRZA",
        "outputId": "38661b63-7ded-4ac8-ce7f-a8c007fa41ee"
      },
      "outputs": [
        {
          "name": "stdout",
          "output_type": "stream",
          "text": [
            "Model: \"sequential\"\n",
            "_________________________________________________________________\n",
            " Layer (type)                Output Shape              Param #   \n",
            "=================================================================\n",
            " conv2d (Conv2D)             (None, 28, 28, 6)         156       \n",
            "                                                                 \n",
            " average_pooling2d (AverageP  (None, 14, 14, 6)        0         \n",
            " ooling2D)                                                       \n",
            "                                                                 \n",
            " activation (Activation)     (None, 14, 14, 6)         0         \n",
            "                                                                 \n",
            " conv2d_1 (Conv2D)           (None, 10, 10, 16)        2416      \n",
            "                                                                 \n",
            " average_pooling2d_1 (Averag  (None, 5, 5, 16)         0         \n",
            " ePooling2D)                                                     \n",
            "                                                                 \n",
            " activation_1 (Activation)   (None, 5, 5, 16)          0         \n",
            "                                                                 \n",
            " conv2d_2 (Conv2D)           (None, 1, 1, 120)         48120     \n",
            "                                                                 \n",
            " flatten (Flatten)           (None, 120)               0         \n",
            "                                                                 \n",
            " dense (Dense)               (None, 84)                10164     \n",
            "                                                                 \n",
            " dense_1 (Dense)             (None, 10)                850       \n",
            "                                                                 \n",
            "=================================================================\n",
            "Total params: 61,706\n",
            "Trainable params: 61,706\n",
            "Non-trainable params: 0\n",
            "_________________________________________________________________\n"
          ]
        }
      ],
      "source": [
        "model = models.Sequential()\n",
        "model.add(layers.Conv2D(6, 5, activation='tanh', input_shape=x_train.shape[1:]))\n",
        "model.add(layers.AveragePooling2D(2))\n",
        "model.add(layers.Activation('sigmoid'))\n",
        "model.add(layers.Conv2D(16, 5, activation='tanh'))\n",
        "model.add(layers.AveragePooling2D(2))\n",
        "model.add(layers.Activation('sigmoid'))\n",
        "model.add(layers.Conv2D(120, 5, activation='tanh'))\n",
        "model.add(layers.Flatten())\n",
        "model.add(layers.Dense(84, activation='tanh'))\n",
        "model.add(layers.Dense(10, activation='softmax'))\n",
        "model.summary()"
      ]
    },
    {
      "cell_type": "code",
      "execution_count": 8,
      "metadata": {
        "id": "pOAJW5ByhYCl"
      },
      "outputs": [],
      "source": [
        "model.compile(optimizer='adam', loss=losses.sparse_categorical_crossentropy, metrics=['accuracy'])"
      ]
    },
    {
      "cell_type": "code",
      "execution_count": 9,
      "metadata": {
        "colab": {
          "base_uri": "https://localhost:8080/"
        },
        "id": "Xv-ml2R6hw_V",
        "outputId": "216079d9-5316-457b-fff7-07052aa09efe"
      },
      "outputs": [
        {
          "name": "stdout",
          "output_type": "stream",
          "text": [
            "Epoch 1/40\n",
            "907/907 [==============================] - 24s 26ms/step - loss: 1.5179 - accuracy: 0.4471 - val_loss: 0.3170 - val_accuracy: 0.9065\n",
            "Epoch 2/40\n",
            "907/907 [==============================] - 34s 38ms/step - loss: 0.3842 - accuracy: 0.8793 - val_loss: 0.1952 - val_accuracy: 0.9430\n",
            "Epoch 3/40\n",
            "907/907 [==============================] - 34s 38ms/step - loss: 0.2986 - accuracy: 0.9061 - val_loss: 0.1840 - val_accuracy: 0.9465\n",
            "Epoch 4/40\n",
            "907/907 [==============================] - 25s 27ms/step - loss: 0.2517 - accuracy: 0.9193 - val_loss: 0.1509 - val_accuracy: 0.9550\n",
            "Epoch 5/40\n",
            "907/907 [==============================] - 25s 27ms/step - loss: 0.2237 - accuracy: 0.9282 - val_loss: 0.1365 - val_accuracy: 0.9625\n",
            "Epoch 6/40\n",
            "907/907 [==============================] - 22s 25ms/step - loss: 0.2031 - accuracy: 0.9342 - val_loss: 0.1084 - val_accuracy: 0.9695\n",
            "Epoch 7/40\n",
            "907/907 [==============================] - 29s 32ms/step - loss: 0.1848 - accuracy: 0.9403 - val_loss: 0.1400 - val_accuracy: 0.9625\n",
            "Epoch 8/40\n",
            "907/907 [==============================] - 47s 52ms/step - loss: 0.1721 - accuracy: 0.9448 - val_loss: 0.1330 - val_accuracy: 0.9595\n",
            "Epoch 9/40\n",
            "907/907 [==============================] - 30s 33ms/step - loss: 0.1622 - accuracy: 0.9487 - val_loss: 0.1086 - val_accuracy: 0.9720\n",
            "Epoch 10/40\n",
            "907/907 [==============================] - 27s 30ms/step - loss: 0.1506 - accuracy: 0.9532 - val_loss: 0.1030 - val_accuracy: 0.9705\n",
            "Epoch 11/40\n",
            "907/907 [==============================] - 20s 23ms/step - loss: 0.1406 - accuracy: 0.9558 - val_loss: 0.0887 - val_accuracy: 0.9785\n",
            "Epoch 12/40\n",
            "907/907 [==============================] - 27s 30ms/step - loss: 0.1294 - accuracy: 0.9593 - val_loss: 0.0850 - val_accuracy: 0.9785\n",
            "Epoch 13/40\n",
            "907/907 [==============================] - 26s 29ms/step - loss: 0.1315 - accuracy: 0.9586 - val_loss: 0.0896 - val_accuracy: 0.9780\n",
            "Epoch 14/40\n",
            "907/907 [==============================] - 24s 26ms/step - loss: 0.1259 - accuracy: 0.9605 - val_loss: 0.0811 - val_accuracy: 0.9800\n",
            "Epoch 15/40\n",
            "907/907 [==============================] - 25s 28ms/step - loss: 0.1163 - accuracy: 0.9637 - val_loss: 0.1039 - val_accuracy: 0.9725\n",
            "Epoch 16/40\n",
            "907/907 [==============================] - 23s 25ms/step - loss: 0.1146 - accuracy: 0.9634 - val_loss: 0.0805 - val_accuracy: 0.9790\n",
            "Epoch 17/40\n",
            "907/907 [==============================] - 26s 28ms/step - loss: 0.1108 - accuracy: 0.9649 - val_loss: 0.0985 - val_accuracy: 0.9725\n",
            "Epoch 18/40\n",
            "907/907 [==============================] - 25s 27ms/step - loss: 0.1081 - accuracy: 0.9656 - val_loss: 0.0926 - val_accuracy: 0.9770\n",
            "Epoch 19/40\n",
            "907/907 [==============================] - 22s 24ms/step - loss: 0.1046 - accuracy: 0.9664 - val_loss: 0.0836 - val_accuracy: 0.9810\n",
            "Epoch 20/40\n",
            "907/907 [==============================] - 21s 23ms/step - loss: 0.1003 - accuracy: 0.9684 - val_loss: 0.0723 - val_accuracy: 0.9790\n",
            "Epoch 21/40\n",
            "907/907 [==============================] - 20s 22ms/step - loss: 0.0969 - accuracy: 0.9691 - val_loss: 0.0871 - val_accuracy: 0.9760\n",
            "Epoch 22/40\n",
            "907/907 [==============================] - 20s 22ms/step - loss: 0.0935 - accuracy: 0.9704 - val_loss: 0.0837 - val_accuracy: 0.9785\n",
            "Epoch 23/40\n",
            "907/907 [==============================] - 24s 26ms/step - loss: 0.0949 - accuracy: 0.9697 - val_loss: 0.1076 - val_accuracy: 0.9670\n",
            "Epoch 24/40\n",
            "907/907 [==============================] - 22s 24ms/step - loss: 0.0935 - accuracy: 0.9702 - val_loss: 0.0694 - val_accuracy: 0.9820\n",
            "Epoch 25/40\n",
            "907/907 [==============================] - 27s 30ms/step - loss: 0.0856 - accuracy: 0.9724 - val_loss: 0.0685 - val_accuracy: 0.9820\n",
            "Epoch 26/40\n",
            "907/907 [==============================] - 25s 27ms/step - loss: 0.0857 - accuracy: 0.9727 - val_loss: 0.0993 - val_accuracy: 0.9790\n",
            "Epoch 27/40\n",
            "907/907 [==============================] - 20s 22ms/step - loss: 0.0864 - accuracy: 0.9731 - val_loss: 0.0791 - val_accuracy: 0.9775\n",
            "Epoch 28/40\n",
            "907/907 [==============================] - 19s 21ms/step - loss: 0.0818 - accuracy: 0.9746 - val_loss: 0.0803 - val_accuracy: 0.9780\n",
            "Epoch 29/40\n",
            "907/907 [==============================] - 21s 23ms/step - loss: 0.0820 - accuracy: 0.9739 - val_loss: 0.0674 - val_accuracy: 0.9815\n",
            "Epoch 30/40\n",
            "907/907 [==============================] - 20s 22ms/step - loss: 0.0834 - accuracy: 0.9731 - val_loss: 0.0760 - val_accuracy: 0.9825\n",
            "Epoch 31/40\n",
            "907/907 [==============================] - 21s 24ms/step - loss: 0.0792 - accuracy: 0.9746 - val_loss: 0.0867 - val_accuracy: 0.9760\n",
            "Epoch 32/40\n",
            "907/907 [==============================] - 19s 21ms/step - loss: 0.0797 - accuracy: 0.9744 - val_loss: 0.0675 - val_accuracy: 0.9810\n",
            "Epoch 33/40\n",
            "907/907 [==============================] - 26s 28ms/step - loss: 0.0740 - accuracy: 0.9766 - val_loss: 0.0743 - val_accuracy: 0.9805\n",
            "Epoch 34/40\n",
            "907/907 [==============================] - 26s 28ms/step - loss: 0.0722 - accuracy: 0.9765 - val_loss: 0.0728 - val_accuracy: 0.9820\n",
            "Epoch 35/40\n",
            "907/907 [==============================] - 27s 30ms/step - loss: 0.0728 - accuracy: 0.9769 - val_loss: 0.0862 - val_accuracy: 0.9770\n",
            "Epoch 36/40\n",
            "907/907 [==============================] - 34s 38ms/step - loss: 0.0698 - accuracy: 0.9776 - val_loss: 0.0982 - val_accuracy: 0.9740\n",
            "Epoch 37/40\n",
            "907/907 [==============================] - 28s 31ms/step - loss: 0.0719 - accuracy: 0.9767 - val_loss: 0.0835 - val_accuracy: 0.9775\n",
            "Epoch 38/40\n",
            "907/907 [==============================] - 33s 37ms/step - loss: 0.0702 - accuracy: 0.9773 - val_loss: 0.0573 - val_accuracy: 0.9860\n",
            "Epoch 39/40\n",
            "907/907 [==============================] - 29s 32ms/step - loss: 0.0681 - accuracy: 0.9773 - val_loss: 0.0560 - val_accuracy: 0.9880\n",
            "Epoch 40/40\n",
            "907/907 [==============================] - 27s 30ms/step - loss: 0.0683 - accuracy: 0.9785 - val_loss: 0.0776 - val_accuracy: 0.9785\n"
          ]
        }
      ],
      "source": [
        "#Trains the model for a fixed number of epochs (iterations on a dataset).\n",
        "history = model.fit(x_train, y_train, batch_size=64, epochs=40, validation_data=(x_val, y_val))"
      ]
    },
    {
      "cell_type": "code",
      "execution_count": 10,
      "metadata": {
        "colab": {
          "base_uri": "https://localhost:8080/",
          "height": 896
        },
        "id": "AfX0d7zyocFw",
        "outputId": "b92f5a88-5045-4941-9616-a812f6a7480f"
      },
      "outputs": [
        {
          "data": {
            "text/plain": [
              "<matplotlib.legend.Legend at 0x7fe65edc4f10>"
            ]
          },
          "execution_count": 10,
          "metadata": {},
          "output_type": "execute_result"
        },
        {
          "data": {
            "image/png": "[encoded data removed]",
            "text/plain": [
              "<Figure size 1080x1080 with 2 Axes>"
            ]
          },
          "metadata": {
            "needs_background": "light"
          },
          "output_type": "display_data"
        }
      ],
      "source": [
        "fig, axs = plt.subplots(2, 1, figsize=(15,15))\n",
        "\n",
        "axs[0].plot(history.history['loss'])\n",
        "axs[0].plot(history.history['val_loss'])\n",
        "axs[0].title.set_text('Training Loss vs Validation Loss')\n",
        "axs[0].legend(['Train', 'Val'])\n",
        "\n",
        "axs[1].plot(history.history['accuracy'])\n",
        "axs[1].plot(history.history['val_accuracy'])\n",
        "axs[1].title.set_text('Training Accuracy vs Validation Accuracy')\n",
        "axs[1].legend(['Train', 'Val'])\n"
      ]
    },
    {
      "cell_type": "code",
      "execution_count": 11,
      "metadata": {
        "colab": {
          "base_uri": "https://localhost:8080/"
        },
        "id": "iLQqDljamZTV",
        "outputId": "4d65a32a-5fec-4b85-8aab-5a26fedd9166"
      },
      "outputs": [
        {
          "name": "stdout",
          "output_type": "stream",
          "text": [
            "313/313 [==============================] - 3s 8ms/step - loss: 0.0777 - accuracy: 0.9749\n"
          ]
        },
        {
          "data": {
            "text/plain": [
              "[0.07772862166166306, 0.9749000072479248]"
            ]
          },
          "execution_count": 11,
          "metadata": {},
          "output_type": "execute_result"
        }
      ],
      "source": [
        "model.evaluate(x_test, y_test)"
      ]
    },
    {
      "cell_type": "code",
      "execution_count": 12,
      "metadata": {},
      "outputs": [],
      "source": [
        "model.save('bestmodel_lenet.h5')"
      ]
    }
  ],
  "metadata": {
    "accelerator": "GPU",
    "colab": {
      "authorship_tag": "ABX9TyOQvBkXChy6hlJ5+j5qxUV4",
      "collapsed_sections": [],
      "include_colab_link": true,
      "name": "LeNet_TensorFlow.ipynb",
      "provenance": []
    },
    "kernelspec": {
      "display_name": "Python 3",
      "name": "python3"
    },
    "language_info": {
      "codemirror_mode": {
        "name": "ipython",
        "version": 3
      },
      "file_extension": ".py",
      "mimetype": "text/x-python",
      "name": "python",
      "nbconvert_exporter": "python",
      "pygments_lexer": "ipython3",
      "version": "3.8.8"
    }
  },
  "nbformat": 4,
  "nbformat_minor": 0
}
